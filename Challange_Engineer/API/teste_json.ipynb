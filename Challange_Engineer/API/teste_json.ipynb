{
 "cells": [
  {
   "cell_type": "code",
   "execution_count": 132,
   "id": "2536ad68-b3e1-496e-919b-962664216e69",
   "metadata": {},
   "outputs": [],
   "source": [
    "import requests\n",
    "import json"
   ]
  },
  {
   "cell_type": "code",
   "execution_count": 140,
   "id": "5d3d8344-ae1c-432d-9fd3-3f763e9a3d53",
   "metadata": {},
   "outputs": [],
   "source": [
    "#url = 'https://api.mercadolibre.com/sites/MLA/search?q=chromecast&limit=50#json'\n",
    "#url = 'https://api.mercadolibre.com/sites/MLA/search?q=AppleTV&limit=50#json'\n",
    "url = 'https://api.mercadolibre.com/sites/MLA/search?q=GoogleHome&limit=50#json'"
   ]
  },
  {
   "cell_type": "code",
   "execution_count": 141,
   "id": "9a458caf-8380-45eb-a786-923fa35c9120",
   "metadata": {},
   "outputs": [],
   "source": [
    "response = requests.get(url)"
   ]
  },
  {
   "cell_type": "code",
   "execution_count": 142,
   "id": "0f63b19e-10bd-4c86-aeaa-80d534bd446a",
   "metadata": {},
   "outputs": [],
   "source": [
    "state = response.json()['results']"
   ]
  },
  {
   "cell_type": "code",
   "execution_count": 143,
   "id": "5822af17-5344-46e1-ace9-f07ef8c95810",
   "metadata": {},
   "outputs": [],
   "source": [
    "list_json = []\n",
    "for i in state:\n",
    "    json_final = 'title: ' + i['title'] + ', '\n",
    "    json_final += 'listing_type_id: ' + i['listing_type_id'] + ', '\n",
    "    json_final += 'category_id: ' + i['category_id'] + ', '\n",
    "    json_final += 'domain_id: ' + i['domain_id'] + ', '\n",
    "    json_final += 'thumbnail: '  + i['thumbnail'] + ', '\n",
    "    json_final += 'currency_id: ' + i['currency_id'] + ', '\n",
    "    json_final += 'price: ' + str(i['price'])\n",
    "    list_json.append(json_final)"
   ]
  },
  {
   "cell_type": "code",
   "execution_count": 144,
   "id": "8f8f53c0-7b7e-4e71-af3b-b6789a60661b",
   "metadata": {},
   "outputs": [],
   "source": [
    "jsonFile = open(\"C:/Users/AU_CAMAROTTO/Downloads/googlehome.json\", \"w\", encoding=\"utf-8\")\n",
    "jsonFile.write(jsonString)\n",
    "jsonFile.close()"
   ]
  },
  {
   "cell_type": "code",
   "execution_count": null,
   "id": "a8edc3ac-b494-4a27-bea5-320755d6d26f",
   "metadata": {},
   "outputs": [],
   "source": []
  }
 ],
 "metadata": {
  "kernelspec": {
   "display_name": "Python 3 (ipykernel)",
   "language": "python",
   "name": "python3"
  },
  "language_info": {
   "codemirror_mode": {
    "name": "ipython",
    "version": 3
   },
   "file_extension": ".py",
   "mimetype": "text/x-python",
   "name": "python",
   "nbconvert_exporter": "python",
   "pygments_lexer": "ipython3",
   "version": "3.9.7"
  }
 },
 "nbformat": 4,
 "nbformat_minor": 5
}
